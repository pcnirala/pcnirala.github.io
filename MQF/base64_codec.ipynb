{
 "cells": [
  {
   "cell_type": "code",
   "execution_count": 1,
   "metadata": {},
   "outputs": [],
   "source": [
    "import base64\n",
    "\n",
    "def encode_to_base64_file(input_file, output_file):\n",
    "    with open(input_file, \"rb\") as f:\n",
    "        binary_data = f.read()\n",
    "\n",
    "    base64_data = base64.b64encode(binary_data)\n",
    "\n",
    "    with open(output_file, \"wb\") as f:\n",
    "        f.write(base64_data)\n",
    "\n",
    "def decode_base64_file(input_file, output_file):\n",
    "    with open(input_file, \"rb\") as f:\n",
    "        base64_data = f.read()\n",
    "\n",
    "    binary_data = base64.b64decode(base64_data)\n",
    "\n",
    "    with open(output_file, \"wb\") as f:\n",
    "        f.write(binary_data)"
   ]
  },
  {
   "cell_type": "code",
   "execution_count": 3,
   "metadata": {},
   "outputs": [],
   "source": [
    "decode_base64_file(r'file.txt', r'file.zip')"
   ]
  }
 ],
 "metadata": {
  "kernelspec": {
   "display_name": "Python 3",
   "language": "python",
   "name": "python3"
  },
  "language_info": {
   "codemirror_mode": {
    "name": "ipython",
    "version": 3
   },
   "file_extension": ".py",
   "mimetype": "text/x-python",
   "name": "python",
   "nbconvert_exporter": "python",
   "pygments_lexer": "ipython3",
   "version": "3.11.7"
  }
 },
 "nbformat": 4,
 "nbformat_minor": 2
}
