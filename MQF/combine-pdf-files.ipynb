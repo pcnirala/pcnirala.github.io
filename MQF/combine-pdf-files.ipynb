{
 "cells": [
  {
   "cell_type": "markdown",
   "id": "e29fe59d",
   "metadata": {},
   "source": [
    "### combine max n pages per file"
   ]
  },
  {
   "cell_type": "code",
   "execution_count": null,
   "id": "076ba645",
   "metadata": {},
   "outputs": [],
   "source": [
    "import os\n",
    "from PyPDF2 import PdfReader, PdfWriter"
   ]
  },
  {
   "cell_type": "code",
   "execution_count": 3,
   "id": "daabf6dc",
   "metadata": {},
   "outputs": [
    {
     "name": "stdout",
     "output_type": "stream",
     "text": [
      "Processing: JANUARY 2020.pdf\n",
      "Processing: FEBRUARY 2020.pdf\n",
      "Processing: MARCH 2020.pdf\n",
      "Processing: APRIL 2020.pdf\n",
      "Processing: MAY 2020.pdf\n",
      "Processing: JUNE 2020.pdf\n",
      "Processing: JULY 2020.pdf\n",
      "Processing: AUGUST 2020.pdf\n",
      "Processing: SEPTEMBER 2020.pdf\n",
      "Processing: OCTOBER 2020.pdf\n",
      "Processing: NOVEMBER 2020.pdf\n",
      "Processing: DECEMBER 2020.pdf\n",
      "Saved first two pages of each PDF to C:\\Users\\pcnir\\Downloads\\2020\\original_copy.pdf\n"
     ]
    }
   ],
   "source": [
    "# Directory containing the PDF files\n",
    "pdf_dir = r\"C:\\Temp\\2020\"\n",
    "\n",
    "# Output file\n",
    "output_pdf = PdfWriter()\n",
    "\n",
    "# List and sort the PDF files by month order\n",
    "month_order = [\n",
    "    \"JANUARY\", \"FEBRUARY\", \"MARCH\", \"APRIL\", \"MAY\", \"JUNE\",\n",
    "    \"JULY\", \"AUGUST\", \"SEPTEMBER\", \"OCTOBER\", \"NOVEMBER\", \"DECEMBER\"\n",
    "]\n",
    "\n",
    "# Filter and sort files based on the expected names\n",
    "pdf_files = sorted(\n",
    "    [f for f in os.listdir(pdf_dir) if f.endswith('.pdf')],\n",
    "    key=lambda x: month_order.index(x.split()[0].upper())  # Sort by month in the filename\n",
    ")\n",
    "\n",
    "# Iterate through each PDF file in sorted order\n",
    "for pdf_file in pdf_files:\n",
    "    pdf_path = os.path.join(pdf_dir, pdf_file)\n",
    "    print(f\"Processing: {pdf_file}\")\n",
    "    \n",
    "    # Extract the first n pages using PyPDF2\n",
    "    max_n_pages_per_file = 5\n",
    "    reader = PdfReader(pdf_path)\n",
    "    for i in range(min(max_n_pages_per_file, len(reader.pages))):\n",
    "        output_pdf.add_page(reader.pages[i])\n",
    "\n",
    "# Save the combined PDF to original_copy.pdf\n",
    "output_path = os.path.join(pdf_dir, 'original_copy.pdf')\n",
    "with open(output_path, 'wb') as output_file:\n",
    "    output_pdf.write(output_file)\n",
    "\n",
    "print(f\"Saved first {max_n_pages_per_file} pages of each PDF to {output_path}\")"
   ]
  }
 ],
 "metadata": {
  "kernelspec": {
   "display_name": "Python 3 (ipykernel)",
   "language": "python",
   "name": "python3"
  },
  "language_info": {
   "codemirror_mode": {
    "name": "ipython",
    "version": 3
   },
   "file_extension": ".py",
   "mimetype": "text/x-python",
   "name": "python",
   "nbconvert_exporter": "python",
   "pygments_lexer": "ipython3",
   "version": "3.9.0"
  }
 },
 "nbformat": 4,
 "nbformat_minor": 5
}
